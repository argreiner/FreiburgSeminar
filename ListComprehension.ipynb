{
 "cells": [
  {
   "cell_type": "markdown",
   "id": "30984f1c",
   "metadata": {},
   "source": [
    "# numpy and matplotlib.pyplot\n",
    "\n",
    "This document is about the usage of numpy and matplotlib.\n",
    "\n",
    "Please keep in mind that most of the variables we define by making reference to these two libraries are instances of classes defined within the libraries. We will have a closer look by means of some examples"
   ]
  },
  {
   "cell_type": "code",
   "execution_count": 1,
   "id": "7134d360",
   "metadata": {},
   "outputs": [],
   "source": [
    "# Load the libraries - was es braucht!\n",
    "import numpy as np\n",
    "import matplotlib.pyplot as plt"
   ]
  },
  {
   "cell_type": "markdown",
   "id": "fa6bcb94",
   "metadata": {},
   "source": [
    " # numpy and numpy arrays\n",
    " \n",
    "Let us generate coordinates in the xy-plane in the closed interval $[0.,1.]\\times[0.,1.]$. Here \"$\\times$\" denotes the cartesian product of the two intervals. Given that each of the intervals is divided into n equally spaced intervals, we will end up with $n\\times n$ intervals. In order to have $n$ closed intervals in one direction we need $n+1$ points to confine these."
   ]
  },
  {
   "cell_type": "code",
   "execution_count": 2,
   "id": "9921724e",
   "metadata": {},
   "outputs": [],
   "source": [
    "# Let's choose n\n",
    "n=50\n",
    "x=np.linspace(0.,1.,n+1) # n+1 points in x-direction\n",
    "y=np.linspace(0.,1.,n+1) # n+1 points in y-direction\n",
    "# Generate a grid: now we need to specify the x- and y-coordinate of the (n+1)x(n+1) grid points. \n",
    "# This we do by the numpy function meshgrid\n",
    "X,Y = np.meshgrid(x,y)"
   ]
  },
  {
   "cell_type": "code",
   "execution_count": null,
   "id": "2f88832b",
   "metadata": {},
   "outputs": [],
   "source": [
    "# Observe how the new variables look like\n",
    "# e.g. X.shape or print(X)"
   ]
  },
  {
   "cell_type": "code",
   "execution_count": null,
   "id": "bc6eaabd",
   "metadata": {},
   "outputs": [],
   "source": [
    "%matplotlib notebook\n",
    "# Let's plot the points. To this end, we have to reshape X and Y into 1D arrays X1D and Y1D by\n",
    "X1D=X.reshape(X.shape[0]*X.shape[1])\n",
    "Y1D=Y.reshape(Y.shape[0]*Y.shape[1])\n",
    "#\n",
    "fig = plt.figure()\n",
    "ax = fig.add_subplot(111)\n",
    "ax.set_aspect(1)\n",
    "ax.plot(X1D,Y1D,'o')"
   ]
  },
  {
   "cell_type": "markdown",
   "id": "a8159845",
   "metadata": {},
   "source": [
    "### Choose all the points that lie inside $x^2+y^2=1$\n",
    "How can we achieve that. First look at the expression $X^2+Y^2<1$"
   ]
  },
  {
   "cell_type": "code",
   "execution_count": null,
   "id": "f298c6b0",
   "metadata": {},
   "outputs": [],
   "source": [
    "%matplotlib notebook\n",
    "eps=1.0e-15\n",
    "inside=Y1D**2+X1D**2<1.0+eps         # Print this expression and watch what it does\n",
    "outside=np.logical_not(inside)   # This is just the logical inversion\n",
    "#\n",
    "fig = plt.figure()\n",
    "ax = fig.add_subplot(111)\n",
    "ax.set_aspect(1)\n",
    "ax.plot(X1D[inside],Y1D[inside],'o')      # By setting the indices of X and Y to the logical expression we choose\n",
    "ax.plot(X1D[outside],Y1D[outside],'o')    # exactly those entries that fullfill the expression\n",
    "ax.plot(x,np.sqrt(1-x**2))            # Plot the 1/4 of a unit circle"
   ]
  },
  {
   "cell_type": "code",
   "execution_count": null,
   "id": "b4cdaa5a",
   "metadata": {},
   "outputs": [],
   "source": [
    "4*X1D[inside].shape[0]/(n+1)**2"
   ]
  },
  {
   "cell_type": "code",
   "execution_count": null,
   "id": "64407eb7",
   "metadata": {},
   "outputs": [],
   "source": [
    "X[inside]"
   ]
  },
  {
   "cell_type": "code",
   "execution_count": null,
   "id": "b69b12d2",
   "metadata": {},
   "outputs": [],
   "source": []
  }
 ],
 "metadata": {
  "kernelspec": {
   "display_name": "Python 3",
   "language": "python",
   "name": "python3"
  },
  "language_info": {
   "codemirror_mode": {
    "name": "ipython",
    "version": 3
   },
   "file_extension": ".py",
   "mimetype": "text/x-python",
   "name": "python",
   "nbconvert_exporter": "python",
   "pygments_lexer": "ipython3",
   "version": "3.9.7"
  }
 },
 "nbformat": 4,
 "nbformat_minor": 5
}
