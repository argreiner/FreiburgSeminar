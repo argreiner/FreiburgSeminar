{
 "cells": [
  {
   "cell_type": "markdown",
   "metadata": {},
   "source": [
    "# Luchs und Hase, Räuber-Beutedynamik\n",
    "Lynx and rabbits as an example for a predator prey dynamics. The respective equations of motion are two coupled first order differential equations of degree 1:\n",
    "\\begin{align}\n",
    "\\dot{x}(t)&=x(t)-x(t)y(t)\\\\\n",
    "\\dot{y}(t)&=-y(t)+x(t)y(t)\n",
    "\\end{align}\n",
    "Interpretation: without any predators y the population of prey x will grow exponentially. Without prey the predators will decrease expontentially. When a predator hits prey the grow rate of the prey dercreases while the rate of the predators increases the same way.\n",
    "\n",
    "How does that system behave in time?"
   ]
  },
  {
   "cell_type": "code",
   "execution_count": null,
   "metadata": {},
   "outputs": [],
   "source": [
    "import numpy as np\n",
    "from scipy.integrate import odeint\n",
    "import matplotlib.pyplot as plt"
   ]
  },
  {
   "cell_type": "code",
   "execution_count": null,
   "metadata": {},
   "outputs": [],
   "source": [
    "def func(r,t):\n",
    "    # here you enter the fifferential equation system\n",
    "    return dxdt,dydt"
   ]
  },
  {
   "cell_type": "code",
   "execution_count": null,
   "metadata": {},
   "outputs": [],
   "source": [
    "%matplotlib notebook\n",
    "# here you integrate the DE and make a side by side plot\n",
    "r0=(0.1,0.1)\n"
   ]
  }
 ],
 "metadata": {
  "kernelspec": {
   "display_name": "Python 3",
   "language": "python",
   "name": "python3"
  },
  "language_info": {
   "codemirror_mode": {
    "name": "ipython",
    "version": 3
   },
   "file_extension": ".py",
   "mimetype": "text/x-python",
   "name": "python",
   "nbconvert_exporter": "python",
   "pygments_lexer": "ipython3",
   "version": "3.9.7"
  }
 },
 "nbformat": 4,
 "nbformat_minor": 2
}
