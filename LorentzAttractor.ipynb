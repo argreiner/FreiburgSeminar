{
 "cells": [
  {
   "cell_type": "markdown",
   "metadata": {},
   "source": [
    "# The Lorentz attractor"
   ]
  },
  {
   "cell_type": "code",
   "execution_count": 1,
   "metadata": {},
   "outputs": [],
   "source": [
    "import numpy as np\n",
    "from scipy.integrate import odeint\n",
    "import matplotlib.pyplot as plt\n",
    "from mpl_toolkits.mplot3d import Axes3D"
   ]
  },
  {
   "cell_type": "code",
   "execution_count": null,
   "metadata": {},
   "outputs": [],
   "source": [
    "def func(r,t):\n",
    " x,y,z=r\n",
    " dxdt=sigma*(y-x)\n",
    " dydt=x*(rho-z)-y\n",
    " dzdt=x*y-beta*z\n",
    " return dxdt,dydt,dzdt"
   ]
  },
  {
   "cell_type": "code",
   "execution_count": null,
   "metadata": {},
   "outputs": [],
   "source": [
    "%matplotlib notebook\n",
    "r0=(0.1,0.0,0.0)\n",
    "sigma = 10.0\n",
    "rho = 28.0\n",
    "beta = 8.0/3.0\n",
    "t=np.linspace(0,100,10000)\n",
    "pos=odeint(func,r0,t)\n",
    "x=pos[:,0]\n",
    "y=pos[:,1]\n",
    "z=pos[:,2]\n",
    "fig=plt.figure(figsize=(12,10))\n",
    "ax=fig.gca(projection='3d')\n",
    "ax.plot(x,y,z)\n",
    "plt.show()"
   ]
  },
  {
   "cell_type": "code",
   "execution_count": null,
   "metadata": {},
   "outputs": [],
   "source": [
    "%matplotlib notebook\n",
    "plt.plot(t,x)\n",
    "plt.show()"
   ]
  },
  {
   "cell_type": "code",
   "execution_count": null,
   "metadata": {},
   "outputs": [],
   "source": [
    "V = np.array([[1,1],[-2,2],[4,-7]])"
   ]
  },
  {
   "cell_type": "code",
   "execution_count": null,
   "metadata": {},
   "outputs": [],
   "source": [
    "M = np.array([[1,1],[-2,2],[4,-7]])\n",
    "\n",
    "print(\"vector:1\")\n",
    "print(M[0,:])\n",
    "# print(\"vector:2\")\n",
    "# print(M[1,:])\n",
    "rows,cols = M.T.shape\n",
    "print(cols)\n",
    "\n",
    "for i,l in enumerate(range(0,cols)):\n",
    "    print(\"Iteration: {}-{}\".format(i,l))\n",
    "    print(\"vector:{}\".format(i))\n",
    "    print(M[i,:])\n",
    "    v1 = [0,0],[M[i,0],M[i,1]]\n",
    "    # v1 = [M[i,0]],[M[i,1]]\n",
    "    print(v1)\n",
    "    plt.figure(i)\n",
    "    plt.plot(v1)\n",
    "    plt.show()"
   ]
  }
 ],
 "metadata": {
  "kernelspec": {
   "display_name": "Python 3",
   "language": "python",
   "name": "python3"
  },
  "language_info": {
   "codemirror_mode": {
    "name": "ipython",
    "version": 3
   },
   "file_extension": ".py",
   "mimetype": "text/x-python",
   "name": "python",
   "nbconvert_exporter": "python",
   "pygments_lexer": "ipython3",
   "version": "3.7.3"
  }
 },
 "nbformat": 4,
 "nbformat_minor": 2
}
