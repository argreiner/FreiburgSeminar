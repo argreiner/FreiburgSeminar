{
 "cells": [
  {
   "cell_type": "markdown",
   "metadata": {},
   "source": [
    "\n",
    "# Slider Demo\n",
    "\n",
    "\n",
    "Using the slider widget to control visual properties of your plot.\n",
    "\n",
    "In this example, a slider is used to choose the frequency of a sine\n",
    "wave. You can control many continuously-varying properties of your plot in\n",
    "this way.\n",
    "\n"
   ]
  },
  {
   "cell_type": "code",
   "execution_count": null,
   "metadata": {},
   "outputs": [],
   "source": [
    "import numpy as np\n",
    "import matplotlib.pyplot as plt\n",
    "from matplotlib.widgets import Slider, Button, RadioButtons\n",
    "from scipy.integrate import odeint # Scipy integrate is for numerical integration odeint is self explaining"
   ]
  },
  {
   "cell_type": "code",
   "execution_count": null,
   "metadata": {},
   "outputs": [],
   "source": [
    "# Update the values to plot\n",
    "def update(val):\n",
    "    pos=odeint(func,n0,t)\n",
    "    l1.set_ydata(pos.T[0])\n",
    "    l2.set_ydata(pos.T[1])\n",
    "    l3.set_ydata(pos.T[2])\n",
    "    fig.canvas.draw_idle()\n",
    "# Reset the parameters\n",
    "def reset(event):\n",
    "    sinf.reset()\n",
    "    srec.reset()\n",
    "    ssus.reset()\n",
    "    svac.reset()\n",
    "#\n",
    "def func(n,t):\n",
    "    s,i,r=n\n",
    "    a=sinf.val      # rate of infection\n",
    "    b=srec.val      # rate of recovery\n",
    "    c=ssus.val      # rate of suszeptibility\n",
    "    d=svac.val      # rate of vaccination\n",
    "    # here you enter the differential equation system\n",
    "    dsdt=-a*s*i+c*r-d*s\n",
    "    didt=a*s*i-b*i\n",
    "    drdt=b*i-c*r+d*s\n",
    "    #\n",
    "    return dsdt,didt,drdt"
   ]
  },
  {
   "cell_type": "code",
   "execution_count": null,
   "metadata": {},
   "outputs": [],
   "source": [
    "# here you integrate the DE and make a side by side plot\n",
    "#starttime=time.time()\n",
    "a0=1.      # rate of infection\n",
    "b0=1.      # rate of recovery\n",
    "c0=1.      # rate of suszeptibility\n",
    "d0=1.      # rate of vaccination\n",
    "a,b,c,d=a0,b0,c0,d0\n",
    "eps=0.1\n",
    "n0=[1.0-eps,eps,0.]\n",
    "t=np.linspace(0,10,100000)  # We do 10000 steps in the iterval [0,100]\n",
    "pos=odeint(func,n0,t) # Integrate the system of differential equations\n",
    "#endtime=time.time()\n",
    "#print(\"{} s\".format(endtime-starttime))"
   ]
  },
  {
   "cell_type": "code",
   "execution_count": null,
   "metadata": {},
   "outputs": [],
   "source": [
    "%matplotlib notebook\n",
    "fig, ax = plt.subplots()\n",
    "plt.subplots_adjust(left=0.25, bottom=0.35)\n",
    "#\n",
    "s=pos.T[0]\n",
    "i=pos.T[1]\n",
    "r=pos.T[2]\n",
    "#\n",
    "l1, = plt.plot(t,s, lw=2, label='Suszeptible')\n",
    "l2, = plt.plot(t,i, lw=2, label='Infected')\n",
    "l3, = plt.plot(t,r, lw=2, label='Recovered')\n",
    "#ax.plot(t,s,lw=2)\n",
    "plt.legend()\n",
    "ax.margins(x=0)\n",
    "\n",
    "axcolor = 'lightgoldenrodyellow'\n",
    "#axfreq = plt.axes([0.25, 0.1, 0.65, 0.04], facecolor=axcolor)\n",
    "#axamp = plt.axes([0.25, 0.15, 0.65, 0.04], facecolor=axcolor)\n",
    "axinf = plt.axes([0.25, 0.05, 0.65, 0.04], facecolor=axcolor)\n",
    "axrec = plt.axes([0.25, 0.1, 0.65, 0.04], facecolor=axcolor)\n",
    "axsus = plt.axes([0.25, 0.15, 0.65, 0.04], facecolor=axcolor)\n",
    "axvac = plt.axes([0.25, 0.2, 0.65, 0.04], facecolor=axcolor)\n",
    "# Define a slider for the frequency\n",
    "sinf = Slider(axinf, 'Infection', 0.1, 10.0, valinit=a0, valstep=0.5)\n",
    "srec = Slider(axrec, 'Recovery', 0.1, 10.0, valinit=b0, valstep=0.5)\n",
    "ssus = Slider(axsus, 'Suszeptibility', 0.1, 10.0, valinit=c0, valstep=0.5)\n",
    "svac = Slider(axvac, 'Vaccination', 0.1, 10.0, valinit=d0, valstep=0.5)\n",
    "#\n",
    "sinf.on_changed(update)\n",
    "srec.on_changed(update)\n",
    "ssus.on_changed(update)\n",
    "svac.on_changed(update)\n",
    "#samp.on_changed(update)\n",
    "#\n",
    "resetax = plt.axes([0.8, 0.01, 0.1, 0.035])\n",
    "button = Button(resetax, 'Reset', color=axcolor, hovercolor='0.975')\n",
    "button.on_clicked(reset)\n",
    "#\n",
    "plt.show()"
   ]
  },
  {
   "cell_type": "code",
   "execution_count": null,
   "metadata": {},
   "outputs": [],
   "source": [
    "sinf.reset()"
   ]
  },
  {
   "cell_type": "code",
   "execution_count": null,
   "metadata": {},
   "outputs": [],
   "source": []
  },
  {
   "cell_type": "code",
   "execution_count": null,
   "metadata": {},
   "outputs": [],
   "source": []
  }
 ],
 "metadata": {
  "kernelspec": {
   "display_name": "Python 3",
   "language": "python",
   "name": "python3"
  },
  "language_info": {
   "codemirror_mode": {
    "name": "ipython",
    "version": 3
   },
   "file_extension": ".py",
   "mimetype": "text/x-python",
   "name": "python",
   "nbconvert_exporter": "python",
   "pygments_lexer": "ipython3",
   "version": "3.9.7"
  }
 },
 "nbformat": 4,
 "nbformat_minor": 1
}
