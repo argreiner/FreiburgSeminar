{
 "cells": [
  {
   "cell_type": "markdown",
   "id": "435e2b4f",
   "metadata": {},
   "source": [
    "# Plotting the incidences of BW counties"
   ]
  },
  {
   "cell_type": "code",
   "execution_count": null,
   "id": "aea7d447",
   "metadata": {},
   "outputs": [],
   "source": [
    "import pandas as pd    # Pandas is a library to analyse various data structures\n",
    "import numpy as np\n",
    "import matplotlib.pyplot as plt"
   ]
  },
  {
   "cell_type": "code",
   "execution_count": null,
   "id": "1425fcd4",
   "metadata": {},
   "outputs": [],
   "source": [
    "# Here we read the csv-file holding the data.\n",
    "# Note: the separator is a ; instead of a comma, all NA-values gave to be skipped\n",
    "df_csv = pd.read_csv('/Users/greiner/Programming/Python/FreiburgSeminar/Infizierte.csv', sep=';',na_filter=False)\n",
    "keys=df_csv.keys()"
   ]
  },
  {
   "cell_type": "code",
   "execution_count": null,
   "id": "b794d24d",
   "metadata": {},
   "outputs": [],
   "source": [
    "# Let us pack the counties names into a dictionary and number them\n",
    "# e.g. {'Biberach': 1}\n",
    "nkreise=np.arange(len(df_csv.to_numpy()[:,0]))\n",
    "dict_kreise = dict(zip(df_csv.to_numpy()[:,0],nkreise))"
   ]
  },
  {
   "cell_type": "code",
   "execution_count": null,
   "id": "f373f549",
   "metadata": {},
   "outputs": [],
   "source": [
    "data=df_csv.to_numpy()[:,1:]"
   ]
  },
  {
   "cell_type": "code",
   "execution_count": null,
   "id": "02f8b01c",
   "metadata": {},
   "outputs": [],
   "source": [
    "irange=np.arange(data.shape[0])\n",
    "jrange=np.arange(data.shape[1])\n",
    "datafloat=np.zeros(data.shape)\n",
    "for i in irange: \n",
    "    for j in jrange:\n",
    "        if data[i,j] =='': \n",
    "            datafloat[i,j]=0.\n",
    "        else:\n",
    "            datafloat[i,j]=float(data[i,j])"
   ]
  },
  {
   "cell_type": "code",
   "execution_count": null,
   "id": "4bba4d49",
   "metadata": {},
   "outputs": [],
   "source": [
    "%matplotlib notebook\n",
    "fig, ax = plt.subplots() # let us plot the data\n",
    "y = np.flip(datafloat[0])\n",
    "delta = y - np.roll(y,shift=7)\n",
    "deltabool = delta > 0\n",
    "ax.plot(delta[deltabool])\n",
    "ax.set_title('Die 7-Tage Inzidenz')\n",
    "ax.set(xlabel='Tag')\n",
    "ax.set(ylabel='Anzahl')"
   ]
  },
  {
   "cell_type": "code",
   "execution_count": null,
   "id": "e26fa634",
   "metadata": {},
   "outputs": [],
   "source": [
    "datafloat[0]"
   ]
  },
  {
   "cell_type": "code",
   "execution_count": null,
   "id": "88d8cc75",
   "metadata": {},
   "outputs": [],
   "source": []
  }
 ],
 "metadata": {
  "jupytext": {
   "text_representation": {
    "extension": ".py",
    "format_name": "light",
    "format_version": "1.5",
    "jupytext_version": "1.11.3"
   }
  },
  "kernelspec": {
   "display_name": "Python 3",
   "language": "python",
   "name": "python3"
  },
  "language_info": {
   "codemirror_mode": {
    "name": "ipython",
    "version": 3
   },
   "file_extension": ".py",
   "mimetype": "text/x-python",
   "name": "python",
   "nbconvert_exporter": "python",
   "pygments_lexer": "ipython3",
   "version": "3.9.7"
  }
 },
 "nbformat": 4,
 "nbformat_minor": 5
}
