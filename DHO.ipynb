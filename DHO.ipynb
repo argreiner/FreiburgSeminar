{
 "cells": [
  {
   "cell_type": "markdown",
   "metadata": {},
   "source": [
    "# The harmonic oscillator"
   ]
  },
  {
   "cell_type": "markdown",
   "metadata": {},
   "source": [
    "##### The linear harmonic oscillator in its damped version."
   ]
  },
  {
   "cell_type": "code",
   "execution_count": 1,
   "metadata": {},
   "outputs": [],
   "source": [
    "import numpy as np\n",
    "from scipy.integrate import odeint\n",
    "import matplotlib.pyplot as plt"
   ]
  },
  {
   "cell_type": "markdown",
   "metadata": {},
   "source": [
    "## The equation system\n",
    "The equation of a harmonic oscillator is given as a differential equation of second order\n",
    "$$m\\ddot{y}(t)+\\gamma\\dot{y}(t)+k\\cdot y(t)=f(t)$$\n",
    "where $m$ is the mass, $\\gamma$ is the damping constant, and $k$ is the spring constant, while $f(t)$ is an external force acting on the oscillator. We wish to transform this second order differential equation to a system of first order differential equations, setting $m=1$, $\\gamma=0$, and $k=1$. To this we set $x=y$ and $v=\\dot{x}$ to read\n",
    "\\begin{align*}\n",
    "\\dot{x}=v\\\\\n",
    "\\dot{v}=-x\n",
    "\\end{align*}\n",
    "where the first line is just the definition used.\n",
    "\n",
    "Interpretation: The rate of change in time of the position $x$ is the velocity $v$. The rate of change in time of the velocity is the negative position. This is motivated by a spring force acting against the direction of motion. For the damped harmonic oscillator we add a damping force proportional to the velocity so that it reads\n",
    "\\begin{align*}\n",
    "\\dot{x}=v\\\\\n",
    "\\dot{v}=-\\gamma v-x\n",
    "\\end{align*}\n",
    "Let us give it a try with a naive ansatz replacing the derivative with a finite difference\n",
    "$$\\dot{g(t)}\\rightarrow\\lim_{\\Delta t\\rightarrow 0}\\frac{g(t+\\Delta t)-g(t)}{\\Delta t}\\approx\\frac{g(t+\\Delta t)-g(t)}{\\Delta t}$$\n",
    "\n"
   ]
  },
  {
   "cell_type": "code",
   "execution_count": 2,
   "metadata": {},
   "outputs": [],
   "source": [
    "# This is for solving the system of DEs\n",
    "dt=.001\n",
    "y1=np.empty(1000)\n",
    "y2=np.empty(1000)"
   ]
  },
  {
   "cell_type": "code",
   "execution_count": 3,
   "metadata": {},
   "outputs": [],
   "source": [
    "# This is for plotting\n"
   ]
  },
  {
   "cell_type": "markdown",
   "metadata": {},
   "source": [
    "# Solution using numerical libraries"
   ]
  },
  {
   "cell_type": "code",
   "execution_count": 4,
   "metadata": {},
   "outputs": [],
   "source": [
    "# This defines the function of the coupled system of 1st order differential equations\n",
    "def func(r,t):        # enter the parameters where r contains both x and v\n",
    "    gamma=0.1         # define the damping\n",
    "    x,v=r             # disentangle r to x and v\n",
    "    dxdt=v            # 1st equation\n",
    "    dvdt=-gamma*v-x   # 2nd equation\n",
    "    return dxdt,dvdt  # give back the result for the integrator"
   ]
  },
  {
   "cell_type": "code",
   "execution_count": null,
   "metadata": {},
   "outputs": [],
   "source": [
    "%matplotlib notebook\n",
    "r0=(2.1,2.1)                   # Initial condition\n",
    "t=np.linspace(0,1000,100000)     # define a time interval from 0 to 100 in 10000 timesteps\n",
    "pos=odeint(func,r0,t)          # integrate the differential equations from t=0 to t=100\n",
    "x=pos[:,0]                     # Plot it\n",
    "v=pos[:,1]\n",
    "plt.gca().set_aspect(1)\n",
    "plt.plot(x,v,'-')\n",
    "plt.show()"
   ]
  },
  {
   "cell_type": "code",
   "execution_count": null,
   "metadata": {},
   "outputs": [],
   "source": [
    "%matplotlib notebook\n",
    "plt.plot(t,x,'r')\n",
    "plt.plot(t,v,'b')\n",
    "plt.show()"
   ]
  },
  {
   "cell_type": "code",
   "execution_count": null,
   "metadata": {},
   "outputs": [],
   "source": [
    "%matplotlib notebook\n",
    "r0=(2.1,2.1)\n",
    "gamma=0.0\n",
    "dt=0.5\n",
    "x=np.zeros(10000)\n",
    "v=np.zeros(10000)\n",
    "x[0],y[0]=r0\n",
    "for i in range(1,10000):\n",
    "    x[i]=x[i-1]+v[i-1]*dt\n",
    "    v[i]=v[i-1]-(gamma*v[i-1]+x[i])*dt\n",
    "plt.plot(x,v,'-')\n",
    "plt.show()"
   ]
  },
  {
   "cell_type": "code",
   "execution_count": null,
   "metadata": {},
   "outputs": [],
   "source": [
    "%matplotlib notebook\n",
    "r0=(2.1,2.1)\n",
    "gamma=0.0\n",
    "dt=0.01\n",
    "x=np.zeros(10000)\n",
    "y=np.zeros(10000)\n",
    "x[0],y[0]=r0\n",
    "for i in range(1,10000):\n",
    "    y[i]=y[i-1]-(gamma*y[i-1]+x[i-1])*dt\n",
    "    x[i]=x[i-1]+y[i]*dt\n",
    "plt.plot(x,y,'-')\n",
    "plt.show()"
   ]
  },
  {
   "cell_type": "code",
   "execution_count": null,
   "metadata": {},
   "outputs": [],
   "source": []
  }
 ],
 "metadata": {
  "kernelspec": {
   "display_name": "Python 3",
   "language": "python",
   "name": "python3"
  },
  "language_info": {
   "codemirror_mode": {
    "name": "ipython",
    "version": 3
   },
   "file_extension": ".py",
   "mimetype": "text/x-python",
   "name": "python",
   "nbconvert_exporter": "python",
   "pygments_lexer": "ipython3",
   "version": "3.9.7"
  }
 },
 "nbformat": 4,
 "nbformat_minor": 2
}
