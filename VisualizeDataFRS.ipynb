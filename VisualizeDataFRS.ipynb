{
 "cells": [
  {
   "cell_type": "code",
   "execution_count": null,
   "id": "af84ed02",
   "metadata": {},
   "outputs": [],
   "source": [
    "# import the WFDB package: python3 -m pip install wfdb\n",
    "# https://pypi.org/project/wfdb/\n",
    "import wfdb\n",
    "# import plotting library matplotlib\n",
    "import matplotlib.pyplot as plt\n",
    "import numpy as np"
   ]
  },
  {
   "cell_type": "code",
   "execution_count": null,
   "id": "69e7f092",
   "metadata": {},
   "outputs": [],
   "source": [
    "# load a record using the 'rdrecord' function\n",
    "# Note: plese change path according to your implementation\n",
    "# The data are to be found in https://archive.physionet.org/physiobank/database/ptbdb/\n",
    "folder  = 'Datasets'\n",
    "dataset = 's0287lre'\n",
    "filename = folder+'/'+dataset\n",
    "record = wfdb.rdrecord(filename)\n",
    "\n",
    "# plot the record to screen\n",
    "#wfdb.plot_wfdb(record=record, title='Example signals')"
   ]
  },
  {
   "cell_type": "code",
   "execution_count": null,
   "id": "13a93b13",
   "metadata": {},
   "outputs": [],
   "source": [
    "%matplotlib inline\n",
    "'''\n",
    "record.p_signals contains NxM rows, where N is the number of data points\n",
    "and M is the number of channels revealed. Therefore we transpose this array.\n",
    "M = 15 we chose a new array shape (3,15,N)\n",
    "'''\n",
    "signals = record.p_signal.T.reshape((3,5,record.p_signal.T.shape[1]))\n",
    "'''\n",
    "Plot the 15 channels in 5 rows and three colums. All the channels do have a slope.\n",
    "It seems that the ground is drifting. This is compensated by removing a least square\n",
    "fitted straight line.\n",
    "'''\n",
    "fig, ax = plt.subplots(5,3)\n",
    "\n",
    "for col in np.arange(3):\n",
    "    for row in np.arange(5):\n",
    "        x = np.arange(signals[col,row].shape[0]) # enumerate the data points from 0 to signals[col,row].shape[0]\n",
    "        A = np.vstack([x, np.ones(len(x))]).T    # stack the enumerated points with the same number of ones [x,ones]\n",
    "        m,c = np.linalg.lstsq(A, signals[col,row], rcond=None)[0] # find slope and y(0) = c \n",
    "        y = signals[col,row]-(m*x+c) # subtract the straight line from the signaly\n",
    "        ax[row,col].plot(y[:1100]) # plot it in the respective subplot"
   ]
  },
  {
   "cell_type": "code",
   "execution_count": null,
   "id": "eb58e1b8",
   "metadata": {},
   "outputs": [],
   "source": [
    "y = signals[0,0]\n",
    "x = np.arange(signals[0,0].shape[0])\n",
    "A = np.vstack([x, np.ones(len(x))]).T\n",
    "np.linalg.lstsq(A, y, rcond=None)[3]"
   ]
  },
  {
   "cell_type": "code",
   "execution_count": null,
   "id": "7078b52b",
   "metadata": {},
   "outputs": [],
   "source": [
    "y = signals[0,0]\n",
    "x = np.arange(signals[0,0].shape[0])\n",
    "A = np.vstack([x, np.ones(len(x))]).T\n",
    "np.linalg.lstsq(A, y, rcond=None)"
   ]
  },
  {
   "cell_type": "code",
   "execution_count": null,
   "id": "312c1fcd",
   "metadata": {},
   "outputs": [],
   "source": [
    "record.sig_name"
   ]
  },
  {
   "cell_type": "code",
   "execution_count": null,
   "id": "d3c62cf0",
   "metadata": {},
   "outputs": [],
   "source": [
    "y.shape"
   ]
  },
  {
   "cell_type": "code",
   "execution_count": null,
   "id": "3f67b160",
   "metadata": {},
   "outputs": [],
   "source": []
  }
 ],
 "metadata": {
  "kernelspec": {
   "display_name": "Python 3 (ipykernel)",
   "language": "python",
   "name": "python3"
  },
  "language_info": {
   "codemirror_mode": {
    "name": "ipython",
    "version": 3
   },
   "file_extension": ".py",
   "mimetype": "text/x-python",
   "name": "python",
   "nbconvert_exporter": "python",
   "pygments_lexer": "ipython3",
   "version": "3.9.10"
  }
 },
 "nbformat": 4,
 "nbformat_minor": 5
}
